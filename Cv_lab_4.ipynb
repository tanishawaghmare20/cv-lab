{
  "nbformat": 4,
  "nbformat_minor": 0,
  "metadata": {
    "colab": {
      "provenance": []
    },
    "kernelspec": {
      "name": "python3",
      "display_name": "Python 3"
    },
    "language_info": {
      "name": "python"
    }
  },
  "cells": [
    {
      "cell_type": "code",
      "source": [
        "import cv2\n",
        "import numpy as np\n",
        "\n",
        "def get_chain_code(image_path):\n",
        "    # Read the image in grayscale\n",
        "    image = cv2.imread(image_path, cv2.IMREAD_GRAYSCALE)\n",
        "\n",
        "    # Threshold the image to get a binary representation\n",
        "    _, binary_image = cv2.threshold(image, 128, 255, cv2.THRESH_BINARY)\n",
        "\n",
        "    # Find contours in the binary image\n",
        "    contours, _ = cv2.findContours(binary_image, cv2.RETR_EXTERNAL, cv2.CHAIN_APPROX_SIMPLE)\n",
        "\n",
        "    # Extract the chain code from the first contour (assuming there's only one digit in the image)\n",
        "    chain_code = []\n",
        "    if contours:\n",
        "        contour = contours[0]\n",
        "        for point in contour:\n",
        "            # Get the direction code based on the difference between consecutive points\n",
        "            x, y = point.ravel()\n",
        "            chain_code.append(get_direction_code(x, y, contour))\n",
        "\n",
        "    return chain_code\n",
        "\n",
        "def get_direction_code(x, y, contour_points):\n",
        "    # Define directions: 0 for right, 1 for down-right, 2 for down, etc.\n",
        "    directions = [(1, 0), (1, 1), (0, 1), (-1, 1), (-1, 0), (-1, -1), (0, -1), (1, -1)]\n",
        "\n",
        "    # Find the direction code based on the change in coordinates\n",
        "    for i, (dx, dy) in enumerate(directions):\n",
        "        for point in contour_points:\n",
        "            px, py = point.ravel()\n",
        "            if x + dx == px and y + dy == py:\n",
        "                return i\n",
        "\n",
        "if __name__ == \"__main__\":\n",
        "    # Replace 'your_image_path.png' with the actual path to your digit image\n",
        "    image_path = '/content/5cff802d48d74607ac929ec2751684e9.jpg'\n",
        "\n",
        "    # Get the chain code for the digit image\n",
        "    chain_code = get_chain_code(image_path)\n",
        "\n",
        "    # Print the chain code\n",
        "    print(\"Chain Code:\", chain_code)\n"
      ],
      "metadata": {
        "colab": {
          "base_uri": "https://localhost:8080/"
        },
        "id": "02oCJIFuRIOj",
        "outputId": "1ed97d28-cd84-4f02-b757-48fb45911f8f"
      },
      "execution_count": null,
      "outputs": [
        {
          "output_type": "stream",
          "name": "stdout",
          "text": [
            "Chain Code: [None, None, None, None]\n"
          ]
        }
      ]
    },
    {
      "cell_type": "code",
      "source": [
        "import cv2\n",
        "import numpy as np\n",
        "\n",
        "# Load your image\n",
        "image = cv2.imread('/content/Screenshot 2024-02-15 113605.png', cv2.IMREAD_GRAYSCALE)\n",
        "\n",
        "# Preprocessing (If needed - Thresholding example)\n",
        "_, thresholded_image = cv2.threshold(image, 127, 255, cv2.THRESH_BINARY)\n",
        "\n",
        "# Find contours\n",
        "contours, hierarchy = cv2.findContours(thresholded_image, cv2.RETR_EXTERNAL, cv2.CHAIN_APPROX_SIMPLE)\n",
        "\n",
        "# Check if contours were found\n",
        "if contours:\n",
        "    contour = contours[0]\n",
        "\n",
        "    # Get the chain code\n",
        "    chain_code = contour[:, 0].tolist()\n",
        "\n",
        "    # Process the chain code\n",
        "    for i in range(len(chain_code)):\n",
        "        x1, y1 = chain_code[i - 1]\n",
        "        x2, y2 = chain_code[i]\n",
        "        direction = calculate_direction(x1, y1, x2, y2)\n",
        "        print(direction)\n",
        "\n",
        "else:\n",
        "    print(\"No contours found in the image.\")\n",
        "\n",
        "# Helper function to calculate the direction\n",
        "def calculate_direction(x1, y1, x2, y2):\n",
        "    dx = x2 - x1\n",
        "    dy = y2 - y1\n",
        "\n",
        "    # Determine direction based on dx and dy (implement your 4 or 8-directional logic)\n",
        "    if dx == 0 and dy > 0:\n",
        "        return 2  # Example:  direction '2' represents 'down'\n",
        "    # ... Add other directions\n",
        "    else:\n",
        "        return 0  # Default in case the logic doesn't match\n"
      ],
      "metadata": {
        "colab": {
          "base_uri": "https://localhost:8080/"
        },
        "id": "NKq1TtSpWHTN",
        "outputId": "d598cfee-b284-45c8-9331-ab362f2b3f1f"
      },
      "execution_count": null,
      "outputs": [
        {
          "output_type": "stream",
          "name": "stdout",
          "text": [
            "0\n",
            "2\n",
            "0\n",
            "0\n",
            "0\n",
            "0\n",
            "0\n"
          ]
        }
      ]
    },
    {
      "cell_type": "code",
      "source": [
        "import cv2\n",
        "import numpy as np\n",
        "import matplotlib.pyplot as plt\n",
        "\n",
        "# Load the image\n",
        "image = cv2.imread('/content/flat,750x,075,f-pad,750x1000,f8f8f8.jpg')\n",
        "\n",
        "# Convert the image to grayscale\n",
        "gray_image = cv2.cvtColor(image, cv2.COLOR_BGR2GRAY)\n",
        "\n",
        "# Threshold the image to get a binary image\n",
        "_, binary_image = cv2.threshold(gray_image, 127, 255, cv2.THRESH_BINARY_INV)\n",
        "# Find contours\n",
        "contours, _ = cv2.findContours(binary_image, cv2.RETR_TREE, cv2.CHAIN_APPROX_NONE)\n",
        "\n",
        "# Display the original image and contour image using pyplot\n",
        "plt.figure(figsize=(10, 5))\n",
        "\n",
        "# Original image\n",
        "plt.subplot(1, 2, 1)\n",
        "plt.imshow(cv2.cvtColor(image, cv2.COLOR_BGR2RGB))\n",
        "plt.title('Original Image')\n",
        "plt.axis('off')\n",
        "\n",
        "# Contour image\n",
        "contour_image = np.zeros_like(image)\n",
        "for contour in contours:\n",
        "    cv2.drawContours(contour_image, [contour], -1, (0, 255, 0), 2)\n",
        "\n",
        "plt.subplot(1, 2, 2)\n",
        "plt.imshow(cv2.cvtColor(contour_image, cv2.COLOR_BGR2RGB))\n",
        "plt.title('Contours')\n",
        "plt.axis('off')\n",
        "\n",
        "plt.show()\n",
        "\n",
        "# Generate chain code for each contour\n",
        "for i, contour in enumerate(contours):\n",
        "    chain_code = []\n",
        "    for j in range(1, len(contour)):\n",
        "      if j%35==0:\n",
        "        # Calculate the direction from the previous point to the current one\n",
        "        dx = contour[j][0][0] - contour[j-1][0][0]\n",
        "        dy = contour[j][0][1] - contour[j-1][0][1]\n",
        "\n",
        "        # Encode the direction into a chain code\n",
        "        if dx == 1 and dy == 0:\n",
        "            chain_code.append(0)\n",
        "        elif dx == 1 and dy == 1:\n",
        "            chain_code.append(1)\n",
        "        elif dx == 0 and dy == 1:\n",
        "            chain_code.append(2)\n",
        "        elif dx == -1 and dy == 1:\n",
        "            chain_code.append(3)\n",
        "        elif dx == -1 and dy == 0:\n",
        "            chain_code.append(4)\n",
        "        elif dx == -1 and dy == -1:\n",
        "            chain_code.append(5)\n",
        "        elif dx == 0 and dy == -1:\n",
        "            chain_code.append(6)\n",
        "        elif dx == 1 and dy == -1:\n",
        "            chain_code.append(7)\n",
        "\n",
        "    # Print the chain code for each contour\n",
        "    print(\"Chain Code for Contour \\n\", i+1, \":\", chain_code)\n"
      ],
      "metadata": {
        "colab": {
          "base_uri": "https://localhost:8080/",
          "height": 494
        },
        "id": "3C8Ub8NSheSA",
        "outputId": "d95f295f-7e42-46fe-fc73-914d6147bfb6"
      },
      "execution_count": null,
      "outputs": [
        {
          "output_type": "display_data",
          "data": {
            "text/plain": [
              "<Figure size 1000x500 with 2 Axes>"
            ],
            "image/png": "[encoded data removed]"
          },
          "metadata": {}
        },
        {
          "output_type": "stream",
          "name": "stdout",
          "text": [
            "Chain Code for Contour \n",
            " 1 : [2, 2, 2, 2, 2, 2, 2, 2, 2, 2, 2, 2, 2, 2, 2, 2, 2, 2, 2, 2, 2, 0, 0, 0, 0, 0, 0, 0, 0, 0, 0, 0, 0, 0, 0, 0, 0, 0, 0, 0, 0, 0, 6, 6, 6, 6, 6, 6, 6, 6, 6, 6, 6, 6, 6, 6, 6, 6, 6, 6, 6, 6, 6, 4, 4, 4, 4, 4, 4, 4, 4, 4, 4, 4, 4, 4, 4, 4, 4, 4, 4, 4, 4, 4]\n",
            "Chain Code for Contour \n",
            " 2 : [0, 0, 0, 0, 2, 2, 2, 1, 1, 6, 7, 7, 6, 6, 0, 0, 0, 0, 2, 2, 2, 2, 2, 2, 2, 2, 4, 4, 4, 6, 6, 6, 6, 6, 6, 2, 3, 2, 3, 2, 3, 4, 4, 6, 6, 6, 6, 5, 6, 1, 2, 2, 2, 2, 2, 4, 4, 4, 6, 6, 6, 6, 6, 6, 6, 6, 6]\n"
          ]
        }
      ]
    },
    {
      "cell_type": "markdown",
      "source": [],
      "metadata": {
        "id": "CzSebZTzmwJe"
      }
    },
    {
      "cell_type": "code",
      "source": [
        "import cv2\n",
        "import numpy as np\n",
        "import matplotlib.pyplot as plt\n",
        "\n",
        "# Load the image\n",
        "image = cv2.imread('/content/flat,750x,075,f-pad,750x1000,f8f8f8.jpg')\n",
        "\n",
        "m=cv2.getRotationMatrix2D((558/2,536/2),90,1)\n",
        "image1=cv2.warpAffine(image,m,(558,536))\n",
        "\n",
        "# Convert the image to grayscale\n",
        "gray_image = cv2.cvtColor(image1, cv2.COLOR_BGR2GRAY)\n",
        "\n",
        "# Threshold the image to get a binary image\n",
        "_, binary_image = cv2.threshold(gray_image, 127, 255, cv2.THRESH_BINARY_INV)\n",
        "# Find contours\n",
        "contours, _ = cv2.findContours(binary_image, cv2.RETR_TREE, cv2.CHAIN_APPROX_NONE)\n",
        "\n",
        "# Display the original image and contour image using pyplot\n",
        "plt.figure(figsize=(10, 5))\n",
        "\n",
        "# Original image\n",
        "plt.subplot(1, 2, 1)\n",
        "plt.imshow(cv2.cvtColor(image1, cv2.COLOR_BGR2RGB))\n",
        "plt.title('Original Image')\n",
        "plt.axis('off')\n",
        "\n",
        "# Contour image\n",
        "contour_image = np.zeros_like(image1)\n",
        "for contour in contours:\n",
        "    cv2.drawContours(contour_image, [contour], -1, (0, 255, 0), 2)\n",
        "\n",
        "plt.subplot(1, 2, 2)\n",
        "plt.imshow(cv2.cvtColor(contour_image, cv2.COLOR_BGR2RGB))\n",
        "plt.title('Contours')\n",
        "plt.axis('off')\n",
        "\n",
        "plt.show()\n",
        "\n",
        "# Generate chain code for each contour\n",
        "for i, contour in enumerate(contours):\n",
        "    chain_code = []\n",
        "    for j in range(1, len(contour)):\n",
        "      if j%35==0:\n",
        "        # Calculate the direction from the previous point to the current one\n",
        "        dx = contour[j][0][0] - contour[j-1][0][0]\n",
        "        dy = contour[j][0][1] - contour[j-1][0][1]\n",
        "\n",
        "        # Encode the direction into a chain code\n",
        "        if dx == 1 and dy == 0:\n",
        "            chain_code.append(0)\n",
        "        elif dx == 1 and dy == 1:\n",
        "            chain_code.append(1)\n",
        "        elif dx == 0 and dy == 1:\n",
        "            chain_code.append(2)\n",
        "        elif dx == -1 and dy == 1:\n",
        "            chain_code.append(3)\n",
        "        elif dx == -1 and dy == 0:\n",
        "            chain_code.append(4)\n",
        "        elif dx == -1 and dy == -1:\n",
        "            chain_code.append(5)\n",
        "        elif dx == 0 and dy == -1:\n",
        "            chain_code.append(6)\n",
        "        elif dx == 1 and dy == -1:\n",
        "            chain_code.append(7)\n",
        "\n",
        "    # Print the chain code for each contour\n",
        "    print(\"Chain Code for Contour \\n\", i+1, \":\", chain_code)\n"
      ],
      "metadata": {
        "id": "-5RaQOZumxIH",
        "outputId": "a9be1493-befb-439b-fc14-277937cb56b1",
        "colab": {
          "base_uri": "https://localhost:8080/",
          "height": 452
        }
      },
      "execution_count": null,
      "outputs": [
        {
          "output_type": "display_data",
          "data": {
            "text/plain": [
              "<Figure size 1000x500 with 2 Axes>"
            ],
            "image/png": "[encoded data removed]"
          },
          "metadata": {}
        },
        {
          "output_type": "stream",
          "name": "stdout",
          "text": [
            "Chain Code for Contour \n",
            " 1 : [2, 2, 2, 2, 2, 2, 2, 2, 2, 2, 2, 2, 2, 2, 2, 0, 0, 0, 0, 0, 0, 0, 0, 0, 0, 0, 0, 0, 0, 0, 0, 6, 6, 6, 6, 6, 6, 6, 6, 6, 6, 6, 6, 6, 6, 6, 4, 2, 2, 4, 4, 4, 4, 4, 4, 0, 1, 0, 1, 0, 1, 2, 2, 4, 4, 4, 4, 3, 4, 7, 0, 0, 0, 0, 0, 2, 2, 2, 4, 4, 4, 4, 4, 4, 4, 4, 4, 6, 6, 6, 6, 0, 0, 0, 0, 7, 4, 5, 5, 5, 4, 6, 6, 6, 4, 4, 4, 4, 4, 4, 4]\n"
          ]
        }
      ]
    },
    {
      "cell_type": "code",
      "source": [],
      "metadata": {
        "id": "7BwvMV85fVjS"
      },
      "execution_count": null,
      "outputs": []
    }
  ]
}